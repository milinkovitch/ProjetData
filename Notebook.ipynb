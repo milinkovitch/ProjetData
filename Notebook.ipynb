{
 "cells": [
  {
   "cell_type": "markdown",
   "metadata": {},
   "source": [
    "<h1 align=\"center\">Notebook - Projet Data - A3</h1>\n",
    "<h4 align=\"center\"> Antoine PEREZ, Benjamin COUNDANNES, Julien MILINKOVITCH, Nathan DUPONT</h4>\n",
    "<br>\n",
    "<img src=\"http://image.noelshack.com/fichiers/2020/25/4/1592470639-unnamed.png\" alt=\"logo\">"
   ]
  },
  {
   "cell_type": "markdown",
   "metadata": {},
   "source": [
    "<h2 align=\"center\">Sommaire : </h2>\n",
    "\n",
    "<a href='#Intro'>Introduction</a><br>\n",
    "\n",
    "<a href='#Desc'>Description de l'algorithme</a><br>\n",
    "\n",
    "<a href='#Stats'>Étude statistique du comportement expérimental</a><br>\n",
    "\n",
    "<a href='#Code'>Code</a><br>"
   ]
  },
  {
   "cell_type": "markdown",
   "metadata": {},
   "source": [
    "<h3 id='Intro' align=\"center\">Introduction</h3><br>\n",
    "<h4>Contexte</h4><br>\n",
    "Depuis les années 90, il y a eu une véritable prise de conscience mondiale de la nécessité de réduire la consommation d’énergie et des émissions de gaz à effet de serre. Les premiers engagements sont apparus lors de la signature du protocole de Kyoto en 1997. Mais son entrée en vigueur n’a finalement eu lieu qu’en 2005 et de nombreux scientifiques ont jugé les efforts insuffisants pour ralentir le réchauffement climatique. Depuis, d’autres engagements plus ambitieux ont vu le jour (division par 4 des émissions d’ici 2050 pour la France par exemple, engagements de certaines grandes villes comme Paris). Mais la tâche est compliquée. Les pouvoirs publics et les collectivités territoriales n’ont pas la possibilité d’obliger les entreprises et les particuliers à changer leurs habitudes pour atteindre ces objectifs. L’action se porte donc avant tout à faire évoluer les comportements. L’économie et le recyclage des matières premières, l’amélioration des modes de transports et des performances énergétiques des bâtiments doivent devenir des priorités.\n",
    "<br><br>\n",
    "Dans ce sens, L’ADEME (Agence de l’Environnement et de la Maîtrise de l’Energie) a récemment lancé un appel à manifestation d’intérêt pour promouvoir la réalisation de démonstrateurs et d’expérimentations de nouvelles solutions de mobilité pour les personnes et les marchandises adaptées à différents types de territoires. Notre structure CesiCDP est déjà bien implantée dans le domaine. Aidé de nombreux partenaires, nous avons réalisé plusieurs études sur le thème de la Mobilité Multimodale Intelligente. Les nouvelles technologies de transport, plus économiques et moins polluantes ne sont pas sans poser de nouveaux défis notamment d’un point de vue de l’optimisation de la gestion des ressources. Mais ces problèmes de logistique du transport présentent un enjeu majeur pour l’avenir : ses applications sont nombreuses (distribution du courrier, livraison de produits, traitement du réseau routier, ramassage des ordures) et leur impact sur l’environnement peut être véritablement significatif. Votre étude s’inscrit donc dans le cadre d’une réponse à l’appel de l’ADEME. \n",
    "\n"
   ]
  },
  {
   "cell_type": "markdown",
   "metadata": {},
   "source": [
    "<h3 id='Desc' align=\"center\">Description de l'algorithme</h3>\n",
    "<h4>1- Modélisation du problème</h4>\n",
    "<h5>A) Problème formel</h5>\n",
    "\n",
    "Le problème algorithmique consiste donc à calculer sur un réseau routier une tournée permettant de relier entre elles un sous-ensemble de villes, puis de revenir à son point de départ, de manière à minimiser la durée totale de la tournée. A cela, nous ajoutons le traffic prévu sur chaque axe pour les différentes tranches horaires.\n",
    "\n",
    "Nous sommes dans la génération d'une tournée de livraison qui est similaire au problème du voyageur de commerce, TSP (Traveling Salesman Problem). \n",
    "\n",
    "<a href=\"https://fr.wikipedia.org/wiki/Probl%C3%A8me_du_voyageur_de_commerce#Description_du_probl%C3%A8me\">L'énoncé du problème du voyageur de commerce</a> est le suivant : étant donné n points (des « villes ») et les distances séparant chaque point, trouver un chemin de longueur totale minimale qui passe exactement une fois par chaque point et revienne au point de départ. \n",
    "\n",
    "Le problème est de trouver le plus court cycle hamiltonien dans le graphe G.\n",
    "<strong>On y ajoute à ce problème la contrainte de la fenêtre de temps de livraison pour chaque objet avec l'interdiction de livrer hors de la fenêtre et la possibilité d'attendre sur place l'ouverture de la fenêtre temporelle.</strong>\n",
    "\n",
    "<strong>La fonction objective est de minimiser le temps de livraison.</strong>\n",
    "\n",
    "<img src=\"http://image.noelshack.com/fichiers/2020/25/5/1592573845-untitled-diagram-2.png\" alt=\"graphe\">\n",
    "\n",
    "Pour modéliser ce problème, nous avons choisi l'utilisation <strong>d'un graphe complet</strong> afin de travailler plus efficacement dans la définition mathématique du problème et l'étude de sa complexité. En effet, le choix d'un graphe complet nous permet d'avoir une fonction objective, des contraintes ainsi qu'une formule simplifiée.\n",
    "A noter que l'utilisation d'un tel graphe implique que tous les sommets soient adjacents entre eux.\n",
    "\n",
    "<a href=\"https://www.gerad.ca/Sebastien.Le.Digabel/MTH6311/8_applications_2.pdf\">Notations:</a>\n",
    "- G = (V,E) avec V un ensemble de sommets et E un ensemble d'arêtes.\n",
    "- Chaque sommet représente une ville. |V| = n.\n",
    "- Comme le graphe est complet: |E| = n(n-1)/2.\n",
    "- G est non-orienté mais les solutions doivent tenir compte d'une orientation.\n",
    "- c<SUB>ij</SUB> : coût (distance) de l'arc (i,j) ∈ E. On suppose que c<SUB>ij</SUB> = c<SUB>ji</SUB> pour tout (i,j) ∈ E.\n",
    "- Pour un trajet T ∈ E, on note le coût du trajet c(T) = c(e).\n",
    "\n",
    "\n",
    "<u>Constantes :</u>\n",
    "- n: nombre de colis (objets)\n",
    "- p: poids maximum du véhicule\n",
    "- t: traffic maximum sur la route (nombre de véhicules sur l'arête)\n",
    "- d: dépôt\n",
    "\n",
    "\n",
    "<u>Les variables de décision sont :</u>\n",
    "\n",
    "Pour chaque arête (i, j) ∈ E, on utilise deux variables binaires x<SUB>ij</SUB>  et x<SUB>ji</SUB>. La variable x<SUB>ij</SUB> vaut 1 si on emprunte l’arête de i vers j, sinon elle en vaut 0.\n",
    "\n",
    "\n",
    "<center>xijk = $\\left \\{\n",
    "\\begin{array}{rcl}\n",
    "1\\\\\n",
    "0\n",
    "\\end{array}\n",
    "\\right. $ si (i,j) est parcouru par le véhicule k.</center>\n",
    "\n",
    "Ainsi en tant que problème d'optimisation combinatoire, le problème s'écrit:\n",
    "\n",
    "\n",
    "<center>min $\\sum_{(i,j)∈ E} c$<SUB>ij</SUB>(x<SUB>ij</SUB> + x<SUB>ji</SUB>)</center>\n",
    "\n",
    "Entrée dans la ville : <center>$\\sum_{i∈ V} x $<SUB>ij</SUB> $ = 1 ∀ j ∈ V  $</center>\n",
    "\n",
    "Sortie de la ville :<center>$\\sum_{j∈ V} x $<SUB>ij</SUB> $ = 1 ∀ j ∈ V $</center>\n",
    "\n",
    "Avec :<center>x<SUB>ij</SUB>  et  x<SUB>ji</SUB> ∈ (0, 1) ∀ (i, j) ∈ E</center>\n",
    "\n",
    "Enfin, nous générerons des statistiques sur la résolution du problème.\n",
    "\n",
    "<h5>B) Etude de la complexité</h5>\n",
    "\n",
    "On sait par cet <a href=\"\">ouvrage scientifique</a> que le TSP est un problème NP-complet qui se réduit à notre problème.\n",
    "On en conclut, que notre problème est également NP-Complet.\n",
    "\n",
    "<br><h4>2- Présentation du choix et description de l'algorithme</h4>\n",
    "<h5>A) Algorithme utilisé (fonctionnement, paramètres ,bilan, améliorations possibles et illustrations)</h5>\n",
    "\n",
    "Nous implémentons <a href=\"https://interstices.info/le-probleme-du-voyageur-de-commerce/\">l'algorithme génétique</a> consistant à voir nos variables comme suit :\n",
    "- un chromosome = une ville\n",
    "- un individu = un chemin (path, liste de villes formant un itinéraire)\n",
    "- une population = un ensemble d'individu soit des paths\n",
    "- une génération = une itération de l'algorithme\n",
    "\n",
    "Dans cet algorithme, nous avons une méthode permettant de calculer la durée du trajet.\n",
    "On crée une population initiale puis on l'évalue. \n",
    "A chaque génération, on range la population par rapport à la qualité de chaque individu de façon hétérogène.\n",
    "Le résultat de cette méthode va nous permettre de conserver les meilleurs chemins en générant d'autres via crossover et en modifiant les individus existants par mutation.\n",
    "\n",
    "Illustration avec cas de tests :\n",
    "- jj\n",
    "- hh\n",
    "\n",
    "<h5>B) Modèle linéaire</h5>"
   ]
  },
  {
   "cell_type": "markdown",
   "metadata": {},
   "source": [
    "<h3 id='Stats' align=\"center\">Etude statistique du comportement expérimental</h3><br>\n",
    "<h4>1- Génération aléatoire des données<br></h4>\n",
    "<h4>2- Analyse prédictive du trafic routier<br></h4>\n",
    "<h4>3- Statistiques descriptives, voire prédictives, de l'algorithme</h4>"
   ]
  },
  {
   "cell_type": "markdown",
   "metadata": {},
   "source": [
    "<h3 id='Code' align=\"center\">Code</h3>"
   ]
  },
  {
   "cell_type": "code",
   "execution_count": null,
   "metadata": {},
   "outputs": [],
   "source": []
  }
 ],
 "metadata": {
  "kernelspec": {
   "display_name": "Python 3",
   "language": "python",
   "name": "python3"
  },
  "language_info": {
   "codemirror_mode": {
    "name": "ipython",
    "version": 3
   },
   "file_extension": ".py",
   "mimetype": "text/x-python",
   "name": "python",
   "nbconvert_exporter": "python",
   "pygments_lexer": "ipython3",
   "version": "3.7.6"
  }
 },
 "nbformat": 4,
 "nbformat_minor": 4
}
