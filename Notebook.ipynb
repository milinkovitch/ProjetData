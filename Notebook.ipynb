{
 "cells": [
  {
   "cell_type": "markdown",
   "metadata": {},
   "source": [
    "<h1 align=\"center\">Notebook - Projet Data - A3</h1>\n",
    "<h4 align=\"center\"> Antoine PEREZ, Benjamin COUNDANNES, Julien MILINKOVITCH, Nathan DUPONT</h4>\n",
    "<br>\n",
    "<img src=\"https://lh3.googleusercontent.com/proxy/0ScPrY07OgS2Ymd6ozZl2mmdaETH1xwslitbnROQxtN5r5V0vXIDFKGK98Ep3t5vGryxu7sI1QFl414hMe2aNADW1qP0QC_b-haTyoTuicTRpTYx2q_URjlPe-cmEo9F-8Ypy-jhdhv365w\" alt=\"logo\">"
   ]
  },
  {
   "cell_type": "markdown",
   "metadata": {},
   "source": [
    "<h2 align=\"center\">Sommaire : </h2>\n",
    "\n",
    "<a href='#Intro'>Introduction</a><br>\n",
    "\n",
    "<a href='#Desc'>Description de l'algorithme</a><br>\n",
    "\n",
    "<a href='#Stats'>Étude statistique du comportement expérimental</a><br>\n",
    "\n",
    "<a href='#Code'>Code</a><br>"
   ]
  },
  {
   "cell_type": "markdown",
   "metadata": {},
   "source": [
    "<h3 id='Intro' align=\"center\">Introduction</h3><br>\n",
    "<h4>Contexte</h4><br>\n",
    "Depuis les années 90, il y a eu une véritable prise de conscience mondiale de la nécessité de réduire la consommation d’énergie et des émissions de gaz à effet de serre. Les premiers engagements sont apparus lors de la signature du protocole de Kyoto en 1997. Mais son entrée en vigueur n’a finalement eu lieu qu’en 2005 et de nombreux scientifiques ont jugé les efforts insuffisants pour ralentir le réchauffement climatique. Depuis, d’autres engagements plus ambitieux ont vu le jour (division par 4 des émissions d’ici 2050 pour la France par exemple, engagements de certaines grandes villes comme Paris). Mais la tâche est compliquée. Les pouvoirs publics et les collectivités territoriales n’ont pas la possibilité d’obliger les entreprises et les particuliers à changer leurs habitudes pour atteindre ces objectifs. L’action se porte donc avant tout à faire évoluer les comportements. L’économie et le recyclage des matières premières, l’amélioration des modes de transports et des performances énergétiques des bâtiments doivent devenir des priorités.\n",
    "<br><br>\n",
    "Dans ce sens, L’ADEME (Agence de l’Environnement et de la Maîtrise de l’Energie) a récemment lancé un appel à manifestation d’intérêt pour promouvoir la réalisation de démonstrateurs et d’expérimentations de nouvelles solutions de mobilité pour les personnes et les marchandises adaptées à différents types de territoires. Notre structure CesiCDP est déjà bien implantée dans le domaine. Aidé de nombreux partenaires, nous avons réalisé plusieurs études sur le thème de la Mobilité Multimodale Intelligente. Les nouvelles technologies de transport, plus économiques et moins polluantes ne sont pas sans poser de nouveaux défis notamment d’un point de vue de l’optimisation de la gestion des ressources. Mais ces problèmes de logistique du transport présentent un enjeu majeur pour l’avenir : ses applications sont nombreuses (distribution du courrier, livraison de produits, traitement du réseau routier, ramassage des ordures) et leur impact sur l’environnement peut être véritablement significatif. Votre étude s’inscrit donc dans le cadre d’une réponse à l’appel de l’ADEME. \n",
    "\n"
   ]
  },
  {
   "cell_type": "markdown",
   "metadata": {},
   "source": [
    "<h3 id='Desc' align=\"center\">Description de l'algorithme</h3>\n",
    "<h4>1- Modélisation du problème</h4>\n",
    "<h5>A) Problème formel</h5>\n",
    "\n",
    "Le problème algorithmique consiste donc à calculer sur un réseau routier une tournée permettant de relier entre elles un sous-ensemble de villes, puis de revenir à son point de départ, de manière à minimiser la durée totale de la tournée. A cela, nous ajoutons le traffic prévu sur chaque axe pour les différentes tranches horaires.\n",
    "Nous utiliserons la recherche opérationnelle pour générer cette tournée de livraison puis on y ajoute à ce problème la contrainte que chaque objet a un point de collecte spécifique.\n",
    "\n",
    "On en déduit donc la fonction \"objectif\" qui est de minimiser la somme des poids de tous les trajets.\n",
    "\n",
    "<img src=\"http://image.noelshack.com/fichiers/2020/25/1/1592220586-untitled-diagram-1.png\" alt=\"logo\">\n",
    "\n",
    "Le graphe est complet, c'est à dire que tous les sommets sont reliés entre eux. Cela signifie qu'une ville peut être visitée à partir de toute autre ville.\n",
    "\n",
    "Constantes du problème sont les suivantes :\n",
    "- n: nombre de livraisons (objets)\n",
    "- m: nombre du véhicule\n",
    "- v: nombre de villes (ou sommets)\n",
    "- c: capacité maximale du véhicule\n",
    "- pt: poids du trajet\n",
    "\n",
    "\n",
    "Avec X étant le trajet, les variables de décision sont :\n",
    "- Xv: le véhicule\n",
    "- Xc: la capacité du véhicule\n",
    "- Xi: point de départ\n",
    "- Xj: point de collecte de l'objet\n",
    "- Xk: point d'arrivé\n",
    "\n",
    "\n",
    "Enfin, nous générerons des statistiques sur la résolution du problème de recherche du chemin le plus court afin de démontrer que l'algorithme est opérationnel.\n",
    "\n",
    "<h5>B) Etude de la complexité</h5>\n",
    "\n",
    "Nous sommes dans la génération d'une tournée de livraison qui est un problème connu le VRP (Vehicle Routing Problem). On sait que c'est un problème qui est NP-Difficile dont le problème d'optimisation ici est la minimisation du poids du trajet (plus d'infos <a href=\"http://www.bernabe.dorronsoro.es/vrp/index.html?VRP-Intro.html\">ici</a> ou <a href=\"http://fc.isima.fr/~duhamel/OAD/2014_OAD.pdf\">ici</a>).\n",
    "Le VRP est un problème NP-complet, pour lequel il n’existe à l’heure actuelle aucun algorithme connu capable de le résoudre en un temps polynomial. c’est la raison pour laquelle on utilisera une métaheuristique pour la suite (<a href=\"https://www.tandfonline.com/doi/abs/10.3138/infor.51.1.41\">ici</a>).\n",
    "\n",
    "<br><h4>2- Présentation du choix et description de l'algorithme</h4>\n",
    "<h5>A) Algorithme utilisé (fonctionnement, paramètres ,bilan, améliorations possibles et illustrations)</h5>\n",
    "\n",
    "Nous implémentons l'algorithme génétique consistant à voir nos variables comme suit :\n",
    "- un chromosome = une ville\n",
    "- un individu = un chemin (path, liste de villes formant un itinéraire)\n",
    "- une population = un ensemble d'individu soit des paths\n",
    "- une génération = une itération de l'algorithme\n",
    "\n",
    "Dans cet algorithme, nous avons une méthode permettant de calculer la durée du trajet.\n",
    "On crée une population initiale puis on l'évalue.\n",
    "A chaque génération, on range la population par rapport à la qualité de chaque individu de façon hétérogène.\n",
    "Le résultat de cette méthode va nous permettre de conserver les meilleurs chemins en générant d'autres via crossover et en modifiant les individus existants par mutation.\n",
    "\n",
    "Illustration avec cas de tests :\n",
    "- jj\n",
    "- hh\n",
    "\n",
    "<h5>B) Modèle linéaire</h5>"
   ]
  },
  {
   "cell_type": "markdown",
   "metadata": {},
   "source": [
    "<h3 id='Stats' align=\"center\">Etude statistique du comportement expérimental</h3><br>\n",
    "<h4>1- Génération aléatoire des données<br></h4>\n",
    "<h4>2- Analyse prédictive du trafic routier<br></h4>\n",
    "<h4>3- Statistiques descriptives, voire prédictives, de l'algorithme</h4>"
   ]
  },
  {
   "cell_type": "markdown",
   "metadata": {},
   "source": [
    "<h3 id='Code' align=\"center\">Code</h3>"
   ]
  },
  {
   "cell_type": "code",
   "execution_count": null,
   "metadata": {},
   "outputs": [],
   "source": []
  }
 ],
 "metadata": {
  "kernelspec": {
   "display_name": "Python 3",
   "language": "python",
   "name": "python3"
  },
  "language_info": {
   "codemirror_mode": {
    "name": "ipython",
    "version": 3
   },
   "file_extension": ".py",
   "mimetype": "text/x-python",
   "name": "python",
   "nbconvert_exporter": "python",
   "pygments_lexer": "ipython3",
   "version": "3.7.6"
  }
 },
 "nbformat": 4,
 "nbformat_minor": 4
}
