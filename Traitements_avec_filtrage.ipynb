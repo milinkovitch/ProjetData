{
 "cells": [
  {
   "cell_type": "raw",
   "metadata": {},
   "source": [
    "1/ Connexion à la BDD MongoDB Atlas"
   ]
  },
  {
   "cell_type": "code",
   "execution_count": 2,
   "metadata": {},
   "outputs": [
    {
     "ename": "SyntaxError",
     "evalue": "invalid syntax (connector.py, line 9)",
     "output_type": "error",
     "traceback": [
      "Traceback \u001b[1;36m(most recent call last)\u001b[0m:\n",
      "  File \u001b[0;32m\"C:\\Programmes\\Anaconda3\\lib\\site-packages\\IPython\\core\\interactiveshell.py\"\u001b[0m, line \u001b[0;32m3331\u001b[0m, in \u001b[0;35mrun_code\u001b[0m\n    exec(code_obj, self.user_global_ns, self.user_ns)\n",
      "\u001b[1;36m  File \u001b[1;32m\"<ipython-input-2-7344cdbace6f>\"\u001b[1;36m, line \u001b[1;32m4\u001b[1;36m, in \u001b[1;35m<module>\u001b[1;36m\u001b[0m\n\u001b[1;33m    import connector\u001b[0m\n",
      "\u001b[1;36m  File \u001b[1;32m\"C:\\Users\\julie\\OneDrive\\Documents\\EXIA\\A3\\5 - DATA\\ProjetData\\connector.py\"\u001b[1;36m, line \u001b[1;32m9\u001b[0m\n\u001b[1;33m    client = pymongo.MongoClient(\"mongodb+srv://\"+ user +\":\"+ password +\"@cluster0-doqes.mongodb.net/test?retryWrites=true&w=majority\")*\u001b[0m\n\u001b[1;37m                                                                                                                                        ^\u001b[0m\n\u001b[1;31mSyntaxError\u001b[0m\u001b[1;31m:\u001b[0m invalid syntax\n"
     ]
    }
   ],
   "source": [
    "import pprint\n",
    "import pymongo\n",
    "import json\n",
    "import connector\n",
    "from dotenv import load_dotenv\n",
    "load_dotenv()\n",
    "import os\n",
    "from pymongo import MongoClient\n",
    "# user = os.getenv(\"USER\")\n",
    "# password = os.getenv(\"PASSWORD\")\n",
    "# client = pymongo.MongoClient(\"mongodb+srv://\"+ user +\":\"+ password +\"@cluster0-doqes.mongodb.net/test?retryWrites=true&w=majority\")\n",
    "db = connector.connect()\n",
    "collection = db.vehicules"
   ]
  },
  {
   "cell_type": "raw",
   "metadata": {},
   "source": [
    "2/ Prendre le premier document de la BDD"
   ]
  },
  {
   "cell_type": "code",
   "execution_count": 14,
   "metadata": {},
   "outputs": [
    {
     "data": {
      "text/plain": [
       "{'_id': ObjectId('5ed3ed8fd59082dd24ba102c'),\n",
       " 'num_arete': 0,\n",
       " 'num_jour': 0,\n",
       " 'plage_horaire': 'm',\n",
       " 'num_periode': 1,\n",
       " 'nb_vehicules': 58}"
      ]
     },
     "execution_count": 14,
     "metadata": {},
     "output_type": "execute_result"
    }
   ],
   "source": [
    "collection.find_one()"
   ]
  },
  {
   "cell_type": "raw",
   "metadata": {},
   "source": [
    "3/ Afficher le nombre de documents pour lesquels la mesure a eu lieu sur la plage horaire du matin « m »"
   ]
  },
  {
   "cell_type": "code",
   "execution_count": 10,
   "metadata": {},
   "outputs": [
    {
     "data": {
      "text/plain": [
       "300000"
      ]
     },
     "execution_count": 10,
     "metadata": {},
     "output_type": "execute_result"
    }
   ],
   "source": [
    "collection.count_documents({'plage_horaire' : 'm'})"
   ]
  },
  {
   "cell_type": "raw",
   "metadata": {},
   "source": [
    "4/ Afficher le nombre d'arêtes pour le graphe"
   ]
  },
  {
   "cell_type": "code",
   "execution_count": 35,
   "metadata": {},
   "outputs": [
    {
     "name": "stdout",
     "output_type": "stream",
     "text": [
      "{'_id': 470, 'count': 1200}\n"
     ]
    }
   ],
   "source": [
    "cursor = collection.aggregate([{'$group' : {'_id':'$num_arete', 'count':{'$sum':1}}}])\n",
    "print(list(cursor)[0])"
   ]
  },
  {
   "cell_type": "raw",
   "metadata": {},
   "source": [
    "5/ Afficher le nombre total de véhicules ayant circulé"
   ]
  },
  {
   "cell_type": "code",
   "execution_count": 41,
   "metadata": {},
   "outputs": [
    {
     "name": "stdout",
     "output_type": "stream",
     "text": [
      "[{'_id': 'null', 'total': 47912100}]\n"
     ]
    }
   ],
   "source": [
    "cursor2 = collection.aggregate([{\"$group\" : {'_id':'null', 'total':{'$sum':\"$nb_vehicules\"}}}])\n",
    "print(list(cursor2))"
   ]
  },
  {
   "cell_type": "raw",
   "metadata": {},
   "source": [
    "6/ Afficher les 3 derniers documents"
   ]
  },
  {
   "cell_type": "code",
   "execution_count": 51,
   "metadata": {},
   "outputs": [
    {
     "name": "stdout",
     "output_type": "stream",
     "text": [
      "[{'_id': ObjectId('5ed3f137d59082dd24c337eb'), 'num_arete': 499, 'num_jour': 4, 'plage_horaire': 's', 'num_periode': 119, 'nb_vehicules': 89}, {'_id': ObjectId('5ed3f137d59082dd24c337ea'), 'num_arete': 499, 'num_jour': 4, 'plage_horaire': 's', 'num_periode': 118, 'nb_vehicules': 47}, {'_id': ObjectId('5ed3f137d59082dd24c337e9'), 'num_arete': 499, 'num_jour': 4, 'plage_horaire': 's', 'num_periode': 116, 'nb_vehicules': 94}]\n"
     ]
    }
   ],
   "source": [
    "cursor3 = collection.find().sort([('$natural',-1)]).limit(3);\n",
    "print(list(cursor3))"
   ]
  },
  {
   "cell_type": "raw",
   "metadata": {},
   "source": [
    "7/ Afficher le nombre de véhicules ayant circulé sur la 498ème arête"
   ]
  },
  {
   "cell_type": "code",
   "execution_count": 65,
   "metadata": {},
   "outputs": [
    {
     "name": "stdout",
     "output_type": "stream",
     "text": [
      "[{'_id': 'null', 'total': 92137}]\n"
     ]
    }
   ],
   "source": [
    "cursor4 = collection.aggregate([{'$match':{'num_arete':498}},{\"$group\" : {'_id':'null', 'total':{'$sum':\"$nb_vehicules\"}}}])\n",
    "print(list(cursor4))"
   ]
  }
 ],
 "metadata": {
  "kernelspec": {
   "display_name": "Python 3",
   "language": "python",
   "name": "python3"
  },
  "language_info": {
   "codemirror_mode": {
    "name": "ipython",
    "version": 3
   },
   "file_extension": ".py",
   "mimetype": "text/x-python",
   "name": "python",
   "nbconvert_exporter": "python",
   "pygments_lexer": "ipython3",
   "version": "3.7.6"
  }
 },
 "nbformat": 4,
 "nbformat_minor": 4
}
