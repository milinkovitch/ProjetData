{
 "cells": [
  {
   "cell_type": "code",
   "execution_count": 31,
   "metadata": {},
   "outputs": [],
   "source": [
    "import networkx as nx\n",
    "import matplotlib.pyplot as plt\n",
    "import random \n"
   ]
  },
  {
   "cell_type": "code",
   "execution_count": 32,
   "metadata": {},
   "outputs": [
    {
     "name": "stdout",
     "output_type": "stream",
     "text": [
      "ID: 1 ; X: 83 ; Y: 85\n",
      "ID: 2 ; X: 12 ; Y: 70\n",
      "ID: 3 ; X: 87 ; Y: 7\n",
      "ID: 4 ; X: 62 ; Y: 70\n",
      "ID: 5 ; X: 9 ; Y: 89\n",
      "ID: 6 ; X: 92 ; Y: 2\n",
      "ID: 7 ; X: 16 ; Y: 14\n",
      "ID: 8 ; X: 5 ; Y: 56\n",
      "ID: 9 ; X: 60 ; Y: 59\n",
      "ID: 1 ; Ville 1: 5 ; Ville 2: 6\n",
      "ID: 2 ; Ville 1: 10 ; Ville 2: 5\n",
      "ID: 3 ; Ville 1: 4 ; Ville 2: 2\n",
      "ID: 4 ; Ville 1: 3 ; Ville 2: 10\n",
      "ID: 5 ; Ville 1: 3 ; Ville 2: 2\n",
      "ID: 6 ; Ville 1: 3 ; Ville 2: 2\n",
      "ID: 7 ; Ville 1: 9 ; Ville 2: 5\n",
      "ID: 8 ; Ville 1: 10 ; Ville 2: 1\n",
      "ID: 9 ; Ville 1: 8 ; Ville 2: 1\n",
      "ID: 10 ; Ville 1: 2 ; Ville 2: 10\n",
      "ID: 11 ; Ville 1: 10 ; Ville 2: 7\n",
      "ID: 12 ; Ville 1: 2 ; Ville 2: 7\n",
      "ID: 13 ; Ville 1: 6 ; Ville 2: 7\n",
      "ID: 14 ; Ville 1: 5 ; Ville 2: 10\n",
      "ID: 15 ; Ville 1: 6 ; Ville 2: 1\n",
      "ID: 16 ; Ville 1: 9 ; Ville 2: 3\n",
      "ID: 17 ; Ville 1: 6 ; Ville 2: 8\n",
      "ID: 18 ; Ville 1: 3 ; Ville 2: 4\n",
      "ID: 19 ; Ville 1: 1 ; Ville 2: 3\n",
      "ID: 20 ; Ville 1: 6 ; Ville 2: 5\n",
      "ID: 21 ; Ville 1: 3 ; Ville 2: 8\n",
      "ID: 22 ; Ville 1: 9 ; Ville 2: 10\n",
      "ID: 23 ; Ville 1: 7 ; Ville 2: 5\n",
      "ID: 24 ; Ville 1: 10 ; Ville 2: 2\n",
      "ID: 25 ; Ville 1: 3 ; Ville 2: 4\n",
      "ID: 26 ; Ville 1: 2 ; Ville 2: 9\n",
      "ID: 27 ; Ville 1: 3 ; Ville 2: 10\n",
      "ID: 28 ; Ville 1: 6 ; Ville 2: 3\n",
      "ID: 29 ; Ville 1: 10 ; Ville 2: 5\n"
     ]
    }
   ],
   "source": [
    "class Ville:\n",
    "    def __init__(self,identifiant, x, y):\n",
    "        self.identifiant = identifiant\n",
    "        self.x = x\n",
    "        self.y = y\n",
    "        \n",
    "    def showDatas(self):\n",
    "        print('ID:',self.identifiant,'; X:',self.x,'; Y:',self.y)\n",
    "        \n",
    "class Route:\n",
    "    def __init__(self,identifiant, id_ville_1, id_ville_2):\n",
    "        self.identifiant = identifiant\n",
    "        self.id_ville_1 = id_ville_1\n",
    "        self.id_ville_2 = id_ville_2\n",
    "        \n",
    "    def showDatas(self):\n",
    "        print('ID:',self.identifiant,'; Ville 1:',self.id_ville_1,'; Ville 2:',self.id_ville_2)\n",
    "\n",
    "        \n",
    "nbr_villes = 10;\n",
    "nbr_routes = 30;\n",
    "villes = []\n",
    "routes = []\n",
    "\n",
    "for i in range(1,nbr_villes+1):\n",
    "    x = random.randint(1,100) #Need to add control to avaid generate same coords\n",
    "    y = random.randint(1,100)\n",
    "    villes.append(Ville(i,x,y))\n",
    "\n",
    "for i in range(1,nbr_routes+1):\n",
    "    id_ville_1 = random.randint(1,nbr_villes) #Need to add control to avaid generate same road \n",
    "    id_ville_2 = random.randint(1,nbr_villes)\n",
    "    \n",
    "    while id_ville_2 == id_ville_1:\n",
    "        id_ville_2 = random.randint(1,nbr_villes)\n",
    "    routes.append(Route(i,id_ville_1,id_ville_2))\n",
    "\n",
    "\n",
    "\n",
    "for ville in villes:\n",
    "    ville.showDatas()\n",
    "\n",
    "for route in routes:\n",
    "    route.showDatas()"
   ]
  },
  {
   "cell_type": "code",
   "execution_count": 13,
   "metadata": {},
   "outputs": [],
   "source": [
    "G = nx.Graph()\n",
    "G.add_nodes_from([1,2, 3])\n",
    "G.add_edge(1, 2)"
   ]
  },
  {
   "cell_type": "code",
   "execution_count": 14,
   "metadata": {},
   "outputs": [
    {
     "data": {
      "image/png": "[encoded data removed]",
      "text/plain": [
       "<Figure size 432x288 with 1 Axes>"
      ]
     },
     "metadata": {},
     "output_type": "display_data"
    }
   ],
   "source": [
    "nx.draw(G, with_labels=True, font_weight='bold')"
   ]
  },
  {
   "cell_type": "code",
   "execution_count": null,
   "metadata": {},
   "outputs": [],
   "source": []
  }
 ],
 "metadata": {
  "kernelspec": {
   "display_name": "Python 3",
   "language": "python",
   "name": "python3"
  },
  "language_info": {
   "codemirror_mode": {
    "name": "ipython",
    "version": 3
   },
   "file_extension": ".py",
   "mimetype": "text/x-python",
   "name": "python",
   "nbconvert_exporter": "python",
   "pygments_lexer": "ipython3",
   "version": "3.7.6"
  }
 },
 "nbformat": 4,
 "nbformat_minor": 4
}
