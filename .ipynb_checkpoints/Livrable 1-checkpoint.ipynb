{
 "cells": [
  {
   "cell_type": "raw",
   "metadata": {},
   "source": [
    "1/ Connexion à la BDD MongoDB Atlas"
   ]
  },
  {
   "cell_type": "code",
   "execution_count": 5,
   "metadata": {},
   "outputs": [],
   "source": [
    "import pprint\n",
    "import pymongo\n",
    "import json\n",
    "import connector\n",
    "from dotenv import load_dotenv\n",
    "load_dotenv()\n",
    "import os\n",
    "from pymongo import MongoClient\n",
    "user = os.getenv(\"USER\")\n",
    "password = os.getenv(\"PASSWORD\")\n",
    "client = pymongo.MongoClient(\"mongodb+srv://\"+ user +\":\"+ password +\"@cluster0-doqes.mongodb.net/test?retryWrites=true&w=majority\")\n",
    "db = connector.connect()\n",
    "collection_trafic = db.vehicules\n"
   ]
  },
  {
   "cell_type": "raw",
   "metadata": {},
   "source": [
    "2/ Affichage du nombre de documents de la collection"
   ]
  },
  {
   "cell_type": "code",
   "execution_count": 6,
   "metadata": {},
   "outputs": [
    {
     "name": "stderr",
     "output_type": "stream",
     "text": [
      "C:\\Programmes\\Anaconda3\\lib\\site-packages\\ipykernel_launcher.py:1: DeprecationWarning: count is deprecated. Use Collection.count_documents instead.\n",
      "  \"\"\"Entry point for launching an IPython kernel.\n"
     ]
    },
    {
     "name": "stdout",
     "output_type": "stream",
     "text": [
      "600003\n"
     ]
    }
   ],
   "source": [
    "print(collection_trafic.find().count())"
   ]
  },
  {
   "cell_type": "raw",
   "metadata": {},
   "source": [
    "3/ Affichage des 5 premiers passages de véhicules de la collection"
   ]
  },
  {
   "cell_type": "code",
   "execution_count": 7,
   "metadata": {},
   "outputs": [
    {
     "name": "stdout",
     "output_type": "stream",
     "text": [
      "[{'_id': ObjectId('5ed3ed8fd59082dd24ba102c'),\n",
      "  'nb_vehicules': 58,\n",
      "  'num_arete': 0,\n",
      "  'num_jour': 0,\n",
      "  'num_periode': 1,\n",
      "  'plage_horaire': 'm'},\n",
      " {'_id': ObjectId('5ed3ed8fd59082dd24ba102d'),\n",
      "  'nb_vehicules': 32,\n",
      "  'num_arete': 0,\n",
      "  'num_jour': 0,\n",
      "  'num_periode': 0,\n",
      "  'plage_horaire': 'm'},\n",
      " {'_id': ObjectId('5ed3ed8fd59082dd24ba102e'),\n",
      "  'nb_vehicules': 27,\n",
      "  'num_arete': 0,\n",
      "  'num_jour': 0,\n",
      "  'num_periode': 3,\n",
      "  'plage_horaire': 'm'},\n",
      " {'_id': ObjectId('5ed3ed8fd59082dd24ba102f'),\n",
      "  'nb_vehicules': 41,\n",
      "  'num_arete': 0,\n",
      "  'num_jour': 0,\n",
      "  'num_periode': 2,\n",
      "  'plage_horaire': 'm'},\n",
      " {'_id': ObjectId('5ed3ed8fd59082dd24ba1030'),\n",
      "  'nb_vehicules': 15,\n",
      "  'num_arete': 0,\n",
      "  'num_jour': 0,\n",
      "  'num_periode': 4,\n",
      "  'plage_horaire': 'm'}]\n"
     ]
    }
   ],
   "source": [
    "pprint.pprint(list(collection_trafic.find()[0:5]))"
   ]
  },
  {
   "cell_type": "raw",
   "metadata": {},
   "source": [
    "4-a/ Insertion d'un document avec un numéro d'arête de 501"
   ]
  },
  {
   "cell_type": "code",
   "execution_count": 8,
   "metadata": {},
   "outputs": [
    {
     "name": "stdout",
     "output_type": "stream",
     "text": [
      "{'_id': ObjectId('5ed60b3fa02e65bf189bafe7'), 'num_arete': 501}\n"
     ]
    }
   ],
   "source": [
    "collection_trafic.insert_one({\"num_arete\":501})\n",
    "print(collection_trafic.find_one({\"num_arete\":501}))"
   ]
  },
  {
   "cell_type": "raw",
   "metadata": {},
   "source": [
    "4-b/ Supression d'un document avec un numéro d'arête de 501"
   ]
  },
  {
   "cell_type": "code",
   "execution_count": 9,
   "metadata": {},
   "outputs": [
    {
     "name": "stdout",
     "output_type": "stream",
     "text": [
      "None\n"
     ]
    }
   ],
   "source": [
    "collection_trafic.delete_one({\"num_arete\":501})\n",
    "print(collection_trafic.find_one({\"num_arete\":501}))"
   ]
  },
  {
   "cell_type": "raw",
   "metadata": {},
   "source": [
    "5/ Affichage du nombre total de passages de véhicules avec boucle For"
   ]
  },
  {
   "cell_type": "code",
   "execution_count": 10,
   "metadata": {},
   "outputs": [
    {
     "name": "stdout",
     "output_type": "stream",
     "text": [
      "{'m': 19720251, 's': 28191853}\n"
     ]
    }
   ],
   "source": [
    "vehicules_par_plage = {\"m\":0, \"s\":0}\n",
    "for trafic in collection_trafic.find({\"$or\":[{\"plage_horaire\":\"m\"}, {\"plage_horaire\":\"s\"}]}):\n",
    "    plage = trafic[\"plage_horaire\"]\n",
    "    vehicules_par_plage[plage] += trafic[\"nb_vehicules\"]\n",
    "print(vehicules_par_plage)"
   ]
  },
  {
   "cell_type": "code",
   "execution_count": 24,
   "metadata": {},
   "outputs": [
    {
     "name": "stdout",
     "output_type": "stream",
     "text": [
      "[{'_id': {'plage': 's'}, 'total': 28191853},\n",
      " {'_id': {'plage': 'm'}, 'total': 19720251}]\n"
     ]
    }
   ],
   "source": [
    "pipeline = [\n",
    "    {\n",
    "        \"$group\": \n",
    "        { \n",
    "            \"_id\": { \"plage\": \"$plage_horaire\"}, \n",
    "            \"total\": { \"$sum\": \"$nb_vehicules\"} \n",
    "        } \n",
    "    }\n",
    "]\n",
    "vehicules_par_plage = collection_trafic.aggregate(pipeline)\n",
    "pprint.pprint(list(vehicules_par_plage))"
   ]
  },
  {
   "cell_type": "code",
   "execution_count": null,
   "metadata": {},
   "outputs": [],
   "source": []
  },
  {
   "cell_type": "code",
   "execution_count": null,
   "metadata": {},
   "outputs": [],
   "source": []
  }
 ],
 "metadata": {
  "kernelspec": {
   "display_name": "Python 3",
   "language": "python",
   "name": "python3"
  },
  "language_info": {
   "codemirror_mode": {
    "name": "ipython",
    "version": 3
   },
   "file_extension": ".py",
   "mimetype": "text/x-python",
   "name": "python",
   "nbconvert_exporter": "python",
   "pygments_lexer": "ipython3",
   "version": "3.7.6"
  }
 },
 "nbformat": 4,
 "nbformat_minor": 4
}
