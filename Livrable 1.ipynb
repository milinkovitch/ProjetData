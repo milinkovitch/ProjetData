{
 "cells": [
  {
   "cell_type": "raw",
   "metadata": {},
   "source": [
    "1/ Connexion à la BDD MongoDB Atlas"
   ]
  },
  {
   "cell_type": "code",
   "execution_count": 7,
   "metadata": {},
   "outputs": [],
   "source": [
    "import pprint\n",
    "import pymongo\n",
    "import json\n",
    "import connector\n",
    "from dotenv import load_dotenv\n",
    "load_dotenv()\n",
    "import os\n",
    "from pymongo import MongoClient\n",
    "user = os.getenv(\"USER\")\n",
    "password = os.getenv(\"PASSWORD\")\n",
    "client = pymongo.MongoClient(\"mongodb+srv://\"+ user +\":\"+ password +\"@cluster0-doqes.mongodb.net/test?retryWrites=true&w=majority\")\n",
    "db = connector.connect()\n",
    "collection_trafic = db.vehicules\n"
   ]
  },
  {
   "cell_type": "raw",
   "metadata": {},
   "source": [
    "2/ Affichage du nombre de documents de la collection"
   ]
  },
  {
   "cell_type": "code",
   "execution_count": 16,
   "metadata": {},
   "outputs": [
    {
     "name": "stdout",
     "output_type": "stream",
     "text": [
      "600003\n"
     ]
    },
    {
     "name": "stderr",
     "output_type": "stream",
     "text": [
      "D:\\Anaconda\\lib\\site-packages\\ipykernel_launcher.py:1: DeprecationWarning: count is deprecated. Use Collection.count_documents instead.\n",
      "  \"\"\"Entry point for launching an IPython kernel.\n"
     ]
    }
   ],
   "source": [
    "print(collection_trafic.find().count())"
   ]
  },
  {
   "cell_type": "raw",
   "metadata": {},
   "source": [
    "3/ Affichage des 5 premiers passages de véhicules de la collection"
   ]
  },
  {
   "cell_type": "code",
   "execution_count": 17,
   "metadata": {},
   "outputs": [
    {
     "name": "stdout",
     "output_type": "stream",
     "text": [
      "[{'_id': ObjectId('5ed3ed8fd59082dd24ba102c'),\n",
      "  'nb_vehicules': 58,\n",
      "  'num_arete': 0,\n",
      "  'num_jour': 0,\n",
      "  'num_periode': 1,\n",
      "  'plage_horaire': 'm'},\n",
      " {'_id': ObjectId('5ed3ed8fd59082dd24ba102d'),\n",
      "  'nb_vehicules': 32,\n",
      "  'num_arete': 0,\n",
      "  'num_jour': 0,\n",
      "  'num_periode': 0,\n",
      "  'plage_horaire': 'm'},\n",
      " {'_id': ObjectId('5ed3ed8fd59082dd24ba102e'),\n",
      "  'nb_vehicules': 27,\n",
      "  'num_arete': 0,\n",
      "  'num_jour': 0,\n",
      "  'num_periode': 3,\n",
      "  'plage_horaire': 'm'},\n",
      " {'_id': ObjectId('5ed3ed8fd59082dd24ba102f'),\n",
      "  'nb_vehicules': 41,\n",
      "  'num_arete': 0,\n",
      "  'num_jour': 0,\n",
      "  'num_periode': 2,\n",
      "  'plage_horaire': 'm'},\n",
      " {'_id': ObjectId('5ed3ed8fd59082dd24ba1030'),\n",
      "  'nb_vehicules': 15,\n",
      "  'num_arete': 0,\n",
      "  'num_jour': 0,\n",
      "  'num_periode': 4,\n",
      "  'plage_horaire': 'm'}]\n"
     ]
    }
   ],
   "source": [
    "pprint.pprint(list(collection_trafic.find()[0:5]))"
   ]
  },
  {
   "cell_type": "raw",
   "metadata": {},
   "source": [
    "4-a/ Insertion d'un document avec un numéro d'arête de 501"
   ]
  },
  {
   "cell_type": "code",
   "execution_count": 18,
   "metadata": {},
   "outputs": [
    {
     "name": "stdout",
     "output_type": "stream",
     "text": [
      "{'_id': ObjectId('5ed600ab403c8d48c67eee70'), 'num_arete': 501}\n"
     ]
    }
   ],
   "source": [
    "collection_trafic.insert_one({\"num_arete\":501})\n",
    "print(collection_trafic.find_one({\"num_arete\":501}))"
   ]
  },
  {
   "cell_type": "raw",
   "metadata": {},
   "source": [
    "4-b/ Supression d'un document avec un numéro d'arête de 501"
   ]
  },
  {
   "cell_type": "code",
   "execution_count": 27,
   "metadata": {},
   "outputs": [
    {
     "name": "stdout",
     "output_type": "stream",
     "text": [
      "None\n"
     ]
    }
   ],
   "source": [
    "collection_trafic.delete_one({\"num_arete\":501})\n",
    "print(collection_trafic.find_one({\"num_arete\":501}))"
   ]
  },
  {
   "cell_type": "raw",
   "metadata": {},
   "source": [
    "5-a/ Affichage du nombre total de passages de véhicules par plage horaire avec la boucle FOR"
   ]
  },
  {
   "cell_type": "code",
   "execution_count": 25,
   "metadata": {},
   "outputs": [
    {
     "name": "stdout",
     "output_type": "stream",
     "text": [
      "{'m': 19720251, 's': 28191853}\n"
     ]
    }
   ],
   "source": [
    "vehicules_par_plage = {\"m\":0, \"s\":0}\n",
    "for trafic in collection_trafic.find({\"$or\":[{\"plage_horaire\":\"m\"}, {\"plage_horaire\":\"s\"}]}):\n",
    "    plage = trafic[\"plage_horaire\"]\n",
    "    vehicules_par_plage[plage] += trafic[\"nb_vehicules\"]\n",
    "print(vehicules_par_plage)"
   ]
  },
  {
   "cell_type": "raw",
   "metadata": {},
   "source": [
    "5-b/ Affichage du nombre total de passages de véhicules par plage horaire avec \n",
    "la fonction AGGREGATE"
   ]
  },
  {
   "cell_type": "code",
   "execution_count": 36,
   "metadata": {},
   "outputs": [
    {
     "ename": "SyntaxError",
     "evalue": "invalid syntax (<ipython-input-36-e2454aeecc5d>, line 2)",
     "output_type": "error",
     "traceback": [
      "\u001b[1;36m  File \u001b[1;32m\"<ipython-input-36-e2454aeecc5d>\"\u001b[1;36m, line \u001b[1;32m2\u001b[0m\n\u001b[1;33m    ([{$group:{_id: { plage_horaire:  $plage_horaire },\u001b[0m\n\u001b[1;37m       ^\u001b[0m\n\u001b[1;31mSyntaxError\u001b[0m\u001b[1;31m:\u001b[0m invalid syntax\n"
     ]
    }
   ],
   "source": [
    "vehicules_par_plage = collection_traffic.aggregate\n",
    "([{$group:{_id: { plage_horaire:  $plage_horaire },\n",
    "totalAmount: { $sum:  $nb_vehicules}}}])\n",
    "pprint.pprint(list(vehicules_par_plage))"
   ]
  },
  {
   "cell_type": "raw",
   "metadata": {},
   "source": [
    "6/ Convertion des données"
   ]
  },
  {
   "cell_type": "code",
   "execution_count": 32,
   "metadata": {},
   "outputs": [
    {
     "name": "stdout",
     "output_type": "stream",
     "text": [
      "[{'_id': ObjectId('5ed3ed8fd59082dd24ba102c'),\n",
      "  'nb_vehicules': 58,\n",
      "  'num_arete': 0,\n",
      "  'num_jour': 0,\n",
      "  'num_periode': 1,\n",
      "  'plage_horaire': 'm'},\n",
      " {'_id': ObjectId('5ed3ed8fd59082dd24ba102d'),\n",
      "  'nb_vehicules': 32,\n",
      "  'num_arete': 0,\n",
      "  'num_jour': 0,\n",
      "  'num_periode': 0,\n",
      "  'plage_horaire': 'm'},\n",
      " {'_id': ObjectId('5ed3ed8fd59082dd24ba102e'),\n",
      "  'nb_vehicules': 27,\n",
      "  'num_arete': 0,\n",
      "  'num_jour': 0,\n",
      "  'num_periode': 3,\n",
      "  'plage_horaire': 'm'},\n",
      " {'_id': ObjectId('5ed3ed8fd59082dd24ba102f'),\n",
      "  'nb_vehicules': 41,\n",
      "  'num_arete': 0,\n",
      "  'num_jour': 0,\n",
      "  'num_periode': 2,\n",
      "  'plage_horaire': 'm'},\n",
      " {'_id': ObjectId('5ed3ed8fd59082dd24ba1030'),\n",
      "  'nb_vehicules': 15,\n",
      "  'num_arete': 0,\n",
      "  'num_jour': 0,\n",
      "  'num_periode': 4,\n",
      "  'plage_horaire': 'm'}]\n"
     ]
    }
   ],
   "source": [
    "pprint.pprint(list(collection_trafic.find()[0:5]))"
   ]
  },
  {
   "cell_type": "code",
   "execution_count": 35,
   "metadata": {},
   "outputs": [
    {
     "ename": "AttributeError",
     "evalue": "'datetime.date' object has no attribute 'AddDays'",
     "output_type": "error",
     "traceback": [
      "\u001b[1;31m---------------------------------------------------------------------------\u001b[0m",
      "\u001b[1;31mAttributeError\u001b[0m                            Traceback (most recent call last)",
      "\u001b[1;32m<ipython-input-35-58555495a0e3>\u001b[0m in \u001b[0;36m<module>\u001b[1;34m\u001b[0m\n\u001b[0;32m      7\u001b[0m     \u001b[0mplage\u001b[0m\u001b[1;33m=\u001b[0m \u001b[0mtrafic\u001b[0m\u001b[1;33m[\u001b[0m\u001b[1;34m\"plage_horaire\"\u001b[0m\u001b[1;33m]\u001b[0m\u001b[1;33m\u001b[0m\u001b[1;33m\u001b[0m\u001b[0m\n\u001b[0;32m      8\u001b[0m     \u001b[0mdate\u001b[0m \u001b[1;33m=\u001b[0m \u001b[0mdatetime\u001b[0m\u001b[1;33m.\u001b[0m\u001b[0mdate\u001b[0m\u001b[1;33m(\u001b[0m\u001b[1;36m2020\u001b[0m\u001b[1;33m,\u001b[0m\u001b[1;36m1\u001b[0m\u001b[1;33m,\u001b[0m\u001b[1;36m1\u001b[0m\u001b[1;33m)\u001b[0m\u001b[1;33m\u001b[0m\u001b[1;33m\u001b[0m\u001b[0m\n\u001b[1;32m----> 9\u001b[1;33m     \u001b[0mdate\u001b[0m\u001b[1;33m.\u001b[0m\u001b[0mAddDays\u001b[0m\u001b[1;33m(\u001b[0m\u001b[0mjour\u001b[0m\u001b[1;33m)\u001b[0m\u001b[1;33m\u001b[0m\u001b[1;33m\u001b[0m\u001b[0m\n\u001b[0m\u001b[0;32m     10\u001b[0m \u001b[0mprint\u001b[0m\u001b[1;33m(\u001b[0m\u001b[0mdate\u001b[0m\u001b[1;33m)\u001b[0m\u001b[1;33m\u001b[0m\u001b[1;33m\u001b[0m\u001b[0m\n",
      "\u001b[1;31mAttributeError\u001b[0m: 'datetime.date' object has no attribute 'AddDays'"
     ]
    }
   ],
   "source": [
    "import datetime\n",
    "\n",
    "data_stamped = []\n",
    "for trafic in collection_trafic.find():\n",
    "    jour= trafic[\"num_jour\"]\n",
    "    minute= trafic[\"num_periode\"]\n",
    "    plage= trafic[\"plage_horaire\"]\n",
    "    date = datetime.date(2020,1,1)\n",
    "    date.AddDays(jour)\n",
    "print(date)\n"
   ]
  },
  {
   "cell_type": "code",
   "execution_count": null,
   "metadata": {},
   "outputs": [],
   "source": []
  }
 ],
 "metadata": {
  "kernelspec": {
   "display_name": "Python 3",
   "language": "python",
   "name": "python3"
  },
  "language_info": {
   "codemirror_mode": {
    "name": "ipython",
    "version": 3
   },
   "file_extension": ".py",
   "mimetype": "text/x-python",
   "name": "python",
   "nbconvert_exporter": "python",
   "pygments_lexer": "ipython3",
   "version": "3.7.6"
  }
 },
 "nbformat": 4,
 "nbformat_minor": 4
}
