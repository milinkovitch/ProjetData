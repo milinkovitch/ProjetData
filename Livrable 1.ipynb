{
 "cells": [
  {
   "cell_type": "raw",
   "metadata": {},
   "source": [
    "1/ Connexion à la BDD MongoDB Atlas"
   ]
  },
  {
   "cell_type": "code",
   "execution_count": 1,
   "metadata": {},
   "outputs": [],
   "source": [
    "import pprint\n",
    "import pymongo\n",
    "import json\n",
    "import connector\n",
    "from dotenv import load_dotenv\n",
    "load_dotenv()\n",
    "import os\n",
    "from pymongo import MongoClient\n",
    "user = os.getenv(\"USER\")\n",
    "password = os.getenv(\"PASSWORD\")\n",
    "client = pymongo.MongoClient(\"mongodb+srv://\"+ user +\":\"+ password +\"@cluster0-doqes.mongodb.net/test?retryWrites=true&w=majority\")\n",
    "db = connector.connect()\n",
    "collection_trafic = db.vehicules\n"
   ]
  },
  {
   "cell_type": "raw",
   "metadata": {},
   "source": [
    "2/ Affichage du nombre de documents de la collection"
   ]
  },
  {
   "cell_type": "code",
   "execution_count": 2,
   "metadata": {},
   "outputs": [
    {
     "name": "stderr",
     "output_type": "stream",
     "text": [
      "D:\\ProgramData\\Anaconda\\lib\\site-packages\\ipykernel_launcher.py:1: DeprecationWarning: count is deprecated. Use Collection.count_documents instead.\n",
      "  \"\"\"Entry point for launching an IPython kernel.\n"
     ]
    },
    {
     "name": "stdout",
     "output_type": "stream",
     "text": [
      "600000\n"
     ]
    }
   ],
   "source": [
    "print(collection_trafic.find().count())"
   ]
  },
  {
   "cell_type": "raw",
   "metadata": {},
   "source": [
    "3/ Affichage des 5 premiers passages de véhicules de la collection"
   ]
  },
  {
   "cell_type": "code",
   "execution_count": 3,
   "metadata": {},
   "outputs": [
    {
     "name": "stdout",
     "output_type": "stream",
     "text": [
      "[{'_id': ObjectId('5ed3ed8fd59082dd24ba102f'),\n",
      "  'nb_vehicules': 41,\n",
      "  'num_arete': 0,\n",
      "  'num_jour': 0,\n",
      "  'num_periode': 2,\n",
      "  'plage_horaire': 'm'},\n",
      " {'_id': ObjectId('5ed3ed8fd59082dd24ba103a'),\n",
      "  'nb_vehicules': 45,\n",
      "  'num_arete': 0,\n",
      "  'num_jour': 0,\n",
      "  'num_periode': 14,\n",
      "  'plage_horaire': 'm'},\n",
      " {'_id': ObjectId('5ed3ed8fd59082dd24ba1050'),\n",
      "  'nb_vehicules': 48,\n",
      "  'num_arete': 0,\n",
      "  'num_jour': 0,\n",
      "  'num_periode': 18,\n",
      "  'plage_horaire': 'm'},\n",
      " {'_id': ObjectId('5ed3ed8fd59082dd24ba1065'),\n",
      "  'nb_vehicules': 36,\n",
      "  'num_arete': 0,\n",
      "  'num_jour': 0,\n",
      "  'num_periode': 57,\n",
      "  'plage_horaire': 'm'},\n",
      " {'_id': ObjectId('5ed3ed8fd59082dd24ba1030'),\n",
      "  'nb_vehicules': 15,\n",
      "  'num_arete': 0,\n",
      "  'num_jour': 0,\n",
      "  'num_periode': 4,\n",
      "  'plage_horaire': 'm'}]\n"
     ]
    }
   ],
   "source": [
    "pprint.pprint(list(collection_trafic.find()[0:5]))"
   ]
  },
  {
   "cell_type": "raw",
   "metadata": {},
   "source": [
    "4-a/ Insertion d'un document avec un numéro d'arête de 501"
   ]
  },
  {
   "cell_type": "code",
   "execution_count": 4,
   "metadata": {},
   "outputs": [
    {
     "name": "stdout",
     "output_type": "stream",
     "text": [
      "{'_id': ObjectId('5ef4f1af3226e16e896ab066'), 'num_arete': 501}\n"
     ]
    }
   ],
   "source": [
    "collection_trafic.insert_one({\"num_arete\":501})\n",
    "print(collection_trafic.find_one({\"num_arete\":501}))"
   ]
  },
  {
   "cell_type": "raw",
   "metadata": {},
   "source": [
    "4-b/ Supression d'un document avec un numéro d'arête de 501"
   ]
  },
  {
   "cell_type": "code",
   "execution_count": 5,
   "metadata": {},
   "outputs": [
    {
     "name": "stdout",
     "output_type": "stream",
     "text": [
      "None\n"
     ]
    }
   ],
   "source": [
    "collection_trafic.delete_one({\"num_arete\": 501})\n",
    "print(collection_trafic.find_one({\"num_arete\": 501}))"
   ]
  },
  {
   "cell_type": "raw",
   "metadata": {},
   "source": [
    "5-a/ Affichage du nombre total de passages de véhicules par plage horaire avec la boucle FOR"
   ]
  },
  {
   "cell_type": "code",
   "execution_count": 6,
   "metadata": {},
   "outputs": [
    {
     "name": "stdout",
     "output_type": "stream",
     "text": [
      "{'m': 19720247, 's': 28191853}\n"
     ]
    }
   ],
   "source": [
    "vehicules_par_plage = {\"m\":0, \"s\":0}\n",
    "for trafic in collection_trafic.find({\"$or\":[{\"plage_horaire\":\"m\"}, {\"plage_horaire\":\"s\"}]}):\n",
    "    plage = trafic[\"plage_horaire\"]\n",
    "    vehicules_par_plage[plage] += trafic[\"nb_vehicules\"]\n",
    "print(vehicules_par_plage)"
   ]
  },
  {
   "cell_type": "raw",
   "metadata": {},
   "source": [
    "5-b/ Affichage du nombre total de passages de véhicules par plage horaire avec \n",
    "la fonction AGGREGATE"
   ]
  },
  {
   "cell_type": "code",
   "execution_count": 7,
   "metadata": {},
   "outputs": [
    {
     "name": "stdout",
     "output_type": "stream",
     "text": [
      "[{'_id': {'plage': 's'}, 'total': 28191853},\n",
      " {'_id': {'plage': 'm'}, 'total': 19720247}]\n"
     ]
    }
   ],
   "source": [
    "pipeline = [\n",
    "    {\n",
    "        \"$group\": \n",
    "        { \n",
    "            \"_id\": { \"plage\": \"$plage_horaire\"}, \n",
    "            \"total\": { \"$sum\": \"$nb_vehicules\"} \n",
    "        } \n",
    "    }\n",
    "]\n",
    "vehicules_par_plage = collection_trafic.aggregate(pipeline)\n",
    "pprint.pprint(list(vehicules_par_plage))"
   ]
  },
  {
   "cell_type": "raw",
   "metadata": {},
   "source": [
    "6/ Convertion des données"
   ]
  },
  {
   "cell_type": "code",
   "execution_count": 8,
   "metadata": {},
   "outputs": [
    {
     "name": "stdout",
     "output_type": "stream",
     "text": [
      "Hello World\n"
     ]
    },
    {
     "ename": "ValueError",
     "evalue": "minute must be in 0..59",
     "output_type": "error",
     "traceback": [
      "\u001b[1;31m---------------------------------------------------------------------------\u001b[0m",
      "\u001b[1;31mValueError\u001b[0m                                Traceback (most recent call last)",
      "\u001b[1;32m<ipython-input-8-e2d7ffebbf26>\u001b[0m in \u001b[0;36m<module>\u001b[1;34m\u001b[0m\n\u001b[0;32m     20\u001b[0m             \u001b[0mheure\u001b[0m \u001b[1;33m=\u001b[0m \u001b[1;36m1\u001b[0m\u001b[1;33m\u001b[0m\u001b[1;33m\u001b[0m\u001b[0m\n\u001b[0;32m     21\u001b[0m             \u001b[0mminute\u001b[0m \u001b[1;33m=\u001b[0m \u001b[0mminute\u001b[0m \u001b[1;33m-\u001b[0m \u001b[1;36m60\u001b[0m\u001b[1;33m\u001b[0m\u001b[1;33m\u001b[0m\u001b[0m\n\u001b[1;32m---> 22\u001b[1;33m     \u001b[0mcustom_date\u001b[0m \u001b[1;33m=\u001b[0m \u001b[0mdatetime\u001b[0m\u001b[1;33m.\u001b[0m\u001b[0mdatetime\u001b[0m\u001b[1;33m(\u001b[0m\u001b[1;36m2020\u001b[0m\u001b[1;33m,\u001b[0m\u001b[1;36m1\u001b[0m\u001b[1;33m,\u001b[0m\u001b[1;36m1\u001b[0m\u001b[1;33m+\u001b[0m\u001b[0mjour\u001b[0m\u001b[1;33m,\u001b[0m \u001b[1;36m7\u001b[0m \u001b[1;33m+\u001b[0m \u001b[0mheure\u001b[0m\u001b[1;33m,\u001b[0m \u001b[0mminute\u001b[0m\u001b[1;33m)\u001b[0m\u001b[1;33m\u001b[0m\u001b[1;33m\u001b[0m\u001b[0m\n\u001b[0m\u001b[0;32m     23\u001b[0m \u001b[1;33m\u001b[0m\u001b[0m\n\u001b[0;32m     24\u001b[0m     \u001b[1;32mif\u001b[0m \u001b[0mplage\u001b[0m \u001b[1;33m==\u001b[0m \u001b[1;34m's'\u001b[0m \u001b[1;33m:\u001b[0m\u001b[1;33m\u001b[0m\u001b[1;33m\u001b[0m\u001b[0m\n",
      "\u001b[1;31mValueError\u001b[0m: minute must be in 0..59"
     ]
    }
   ],
   "source": [
    "import datetime\n",
    "from datetime import timedelta, date\n",
    "print(\"Hello World\")\n",
    "data_stamped = []\n",
    "\n",
    "for trafic in collection_trafic.find():\n",
    "    try :\n",
    "        jour = trafic['num_jour']\n",
    "    except KeyError:\n",
    "        print(trafic)\n",
    "        continue\n",
    "    minute = trafic['num_periode']\n",
    "    plage = trafic['plage_horaire']\n",
    "\n",
    "    custom_date = datetime.datetime(2020,1,1)\n",
    "\n",
    "    if plage == 'm' :\n",
    "        heure = 0\n",
    "        if minute >= 60 :\n",
    "            heure = 1\n",
    "            minute = minute - 60\n",
    "    custom_date = datetime.datetime(2020,1,1+jour, 7 + heure, minute)\n",
    "\n",
    "    if plage == 's' :\n",
    "        heure = 0\n",
    "        if minute >= 60 :\n",
    "            heure = 1\n",
    "            minute = minute - 60\n",
    "    custom_date = datetime.datetime(2020,1,1+jour, 17 + heure, minute)\n",
    "    #date_str = str(custom_date)\n",
    "\n",
    "    row = { \"num_arete\":trafic['num_arete'],\"date\":custom_date, \"nb_vehicules\":trafic['nb_vehicules']}\n",
    "\n",
    "\n",
    "    data_stamped.append(row)\n",
    "\n",
    "print(len(data_stamped))\n",
    "\n",
    "vehicules_stamped = db.vehicules_stamped\n",
    "vehicules_stamped.delete_many({})\n",
    "\n",
    "print(db.vehicules_stamped.find().count())\n",
    "\n",
    "vehicules_stamped.insert_many(data_stamped)\n",
    "\n",
    "print(db.vehicules_stamped.find().count())"
   ]
  },
  {
   "cell_type": "raw",
   "metadata": {},
   "source": [
    "6-b/ Comptage du nombre de documents présents dans la nouvelle collection"
   ]
  },
  {
   "cell_type": "code",
   "execution_count": null,
   "metadata": {
    "scrolled": true
   },
   "outputs": [],
   "source": [
    "print(db.vehicules_stamped.find().count())"
   ]
  },
  {
   "cell_type": "raw",
   "metadata": {},
   "source": [
    "6-c/ Affichage des dates et heures présentes dans la nouvelle collection"
   ]
  },
  {
   "cell_type": "code",
   "execution_count": null,
   "metadata": {},
   "outputs": [],
   "source": [
    "for row in vehicules_stamped.find() :\n",
    "    print(row[\"date\"])"
   ]
  },
  {
   "cell_type": "raw",
   "metadata": {},
   "source": [
    "6-d/ Affichage du nombre de passages de véhicules par tranche horaire"
   ]
  },
  {
   "cell_type": "code",
   "execution_count": null,
   "metadata": {},
   "outputs": [],
   "source": [
    "matin = 0\n",
    "soir = 0\n",
    "\n",
    "for row in vehicules_stamped.find():\n",
    "    if row[\"date\"].hour >= 7 and row[\"date\"].hour < 9:\n",
    "        matin += int(row[\"nb_vehicules\"])\n",
    "    else:\n",
    "        soir += int(row[\"nb_vehicules\"])\n",
    "        \n",
    "print(\"Matin: \"+ str(matin))\n",
    "print(\"Soir: \"+ str(soir))"
   ]
  },
  {
   "cell_type": "code",
   "execution_count": null,
   "metadata": {},
   "outputs": [],
   "source": []
  }
 ],
 "metadata": {
  "kernelspec": {
   "display_name": "Python 3",
   "language": "python",
   "name": "python3"
  },
  "language_info": {
   "codemirror_mode": {
    "name": "ipython",
    "version": 3
   },
   "file_extension": ".py",
   "mimetype": "text/x-python",
   "name": "python",
   "nbconvert_exporter": "python",
   "pygments_lexer": "ipython3",
   "version": "3.7.6"
  }
 },
 "nbformat": 4,
 "nbformat_minor": 4
}
